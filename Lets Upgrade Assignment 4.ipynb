{
 "cells": [
  {
   "cell_type": "code",
   "execution_count": 1,
   "metadata": {},
   "outputs": [
    {
     "name": "stdout",
     "output_type": "stream",
     "text": [
      "Sorted List: [1, 1, 1, 2, 2, 3, 4, 4, 10, 56, 56, 0, 0, 0, 0, 0]\n"
     ]
    }
   ],
   "source": [
    "list1=[0,1,2,10,4,1,0,56,2,0,1,3,0,56,0,4]\n",
    "list1.sort()\n",
    "while list1[0]==0:\n",
    "    list1.pop(0)\n",
    "    list1.append(0)\n",
    "print(\"Sorted List:\", list1)"
   ]
  },
  {
   "cell_type": "code",
   "execution_count": null,
   "metadata": {
    "scrolled": true
   },
   "outputs": [],
   "source": []
  },
  {
   "cell_type": "code",
   "execution_count": 6,
   "metadata": {},
   "outputs": [
    {
     "name": "stdout",
     "output_type": "stream",
     "text": [
      "Merged sorted list is : [5, 10, 15, 20, 25, 30, 35, 40, 45, 60, 60, 70, 80]\n"
     ]
    }
   ],
   "source": [
    "list1 =[10, 20, 30, 40, 60, 70, 80]\n",
    "list2 = [5, 15, 25, 35, 45, 60] \n",
    " \n",
    "#print (\"The original list 1 is : \" + str(list1)) \n",
    "#print (\"The original list 2 is : \" + str(list2)) \n",
    " \n",
    "size1 = len(list1) \n",
    "size2 = len(list2) \n",
    " \n",
    "result1 = [] \n",
    "i=0\n",
    "j=0\n",
    " \n",
    "while i < size1 and j < size2: \n",
    "    if list1[i] < list2[j]: \n",
    "      result1.append(list1[i]) \n",
    "      i += 1\n",
    " \n",
    "    else: \n",
    " \n",
    "      result1.append(list2[j]) \n",
    "      j += 1\n",
    "      result = result1+ list1[i:] + list2[j:] \n",
    "print (\"Merged sorted list is : \" + str(result))"
   ]
  },
  {
   "cell_type": "code",
   "execution_count": null,
   "metadata": {},
   "outputs": [],
   "source": []
  },
  {
   "cell_type": "code",
   "execution_count": null,
   "metadata": {},
   "outputs": [],
   "source": []
  }
 ],
 "metadata": {
  "kernelspec": {
   "display_name": "Python 3",
   "language": "python",
   "name": "python3"
  },
  "language_info": {
   "codemirror_mode": {
    "name": "ipython",
    "version": 3
   },
   "file_extension": ".py",
   "mimetype": "text/x-python",
   "name": "python",
   "nbconvert_exporter": "python",
   "pygments_lexer": "ipython3",
   "version": "3.7.6"
  }
 },
 "nbformat": 4,
 "nbformat_minor": 4
}
