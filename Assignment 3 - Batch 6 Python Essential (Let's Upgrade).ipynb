{
 "cells": [
  {
   "cell_type": "code",
   "execution_count": 1,
   "metadata": {},
   "outputs": [
    {
     "name": "stdout",
     "output_type": "stream",
     "text": [
      "The occurrence of substring are:[0, 12, 23, 37]\n"
     ]
    }
   ],
   "source": [
    "str1=\"we are what we believe we should be. we should have positive thoughts.\"\n",
    "sub_str=\"we\"\n",
    "a= [i for i in range(len(str1)) if str1.startswith(sub_str, i)] \n",
    "print(\"The occurrence of substring are:\" +str(a))"
   ]
  },
  {
   "cell_type": "code",
   "execution_count": 3,
   "metadata": {},
   "outputs": [
    {
     "name": "stdout",
     "output_type": "stream",
     "text": [
      "str1= True\n"
     ]
    }
   ],
   "source": [
    "str1= \"pythonprogramming\".islower()\n",
    "print(\"str1=\",str1)"
   ]
  },
  {
   "cell_type": "code",
   "execution_count": 4,
   "metadata": {},
   "outputs": [
    {
     "name": "stdout",
     "output_type": "stream",
     "text": [
      "str2= False\n"
     ]
    }
   ],
   "source": [
    "str2= \"PythonProgramming\".islower()\n",
    "print(\"str2=\",str2)"
   ]
  },
  {
   "cell_type": "code",
   "execution_count": 5,
   "metadata": {},
   "outputs": [
    {
     "name": "stdout",
     "output_type": "stream",
     "text": [
      "str3= False\n"
     ]
    }
   ],
   "source": [
    "str3= \"12345\".islower()\n",
    "print(\"str3=\",str3)"
   ]
  },
  {
   "cell_type": "code",
   "execution_count": 10,
   "metadata": {},
   "outputs": [
    {
     "name": "stdout",
     "output_type": "stream",
     "text": [
      "str4= True\n"
     ]
    }
   ],
   "source": [
    "str4= \"PYTHONPROGRAMMING\".isupper()\n",
    "print(\"str4=\",str4)"
   ]
  },
  {
   "cell_type": "code",
   "execution_count": 7,
   "metadata": {},
   "outputs": [
    {
     "name": "stdout",
     "output_type": "stream",
     "text": [
      "str5= False\n"
     ]
    }
   ],
   "source": [
    "str5= \"PythonProgramming\".isupper()\n",
    "print(\"str5=\",str5)"
   ]
  },
  {
   "cell_type": "code",
   "execution_count": 8,
   "metadata": {},
   "outputs": [
    {
     "name": "stdout",
     "output_type": "stream",
     "text": [
      "str6= False\n"
     ]
    }
   ],
   "source": [
    "str6= \"@123**!\".isupper()\n",
    "print(\"str6=\",str6)"
   ]
  },
  {
   "cell_type": "code",
   "execution_count": null,
   "metadata": {},
   "outputs": [],
   "source": []
  }
 ],
 "metadata": {
  "kernelspec": {
   "display_name": "Python 3",
   "language": "python",
   "name": "python3"
  },
  "language_info": {
   "codemirror_mode": {
    "name": "ipython",
    "version": 3
   },
   "file_extension": ".py",
   "mimetype": "text/x-python",
   "name": "python",
   "nbconvert_exporter": "python",
   "pygments_lexer": "ipython3",
   "version": "3.7.6"
  }
 },
 "nbformat": 4,
 "nbformat_minor": 4
}
