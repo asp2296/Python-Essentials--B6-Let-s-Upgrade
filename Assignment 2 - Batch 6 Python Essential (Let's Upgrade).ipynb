{
 "cells": [
  {
   "cell_type": "code",
   "execution_count": 4,
   "metadata": {},
   "outputs": [
    {
     "name": "stdout",
     "output_type": "stream",
     "text": [
      "Enter the number : 6\n",
      "The sum of n numbers and 21\n"
     ]
    }
   ],
   "source": [
    "n = int(input(\"Enter the number : \"))\n",
    "total_num = n\n",
    "sum=0\n",
    "while (n >= 0):\n",
    "    sum += n\n",
    "    n-=1\n",
    "print (\"The sum of n numbers and\", sum )"
   ]
  },
  {
   "cell_type": "code",
   "execution_count": 5,
   "metadata": {},
   "outputs": [
    {
     "name": "stdout",
     "output_type": "stream",
     "text": [
      "Enter the number : 49\n",
      "49 is a Prime Number\n"
     ]
    }
   ],
   "source": [
    "num1=int(input(\"Enter the number : \"))\n",
    "if num1 > 1:\n",
    "  for i in range(2,num1):\n",
    "    if(num1 % i) == 0:\n",
    "       print(num1,\"is NOT a Prime Number\")\n",
    "       break\n",
    "    else:\n",
    "       print(num1,\"is a Prime Number\")\n",
    "       break\n",
    "else:\n",
    "    print(num1,\"is NOT a Prime Number\")"
   ]
  },
  {
   "cell_type": "code",
   "execution_count": null,
   "metadata": {},
   "outputs": [],
   "source": []
  }
 ],
 "metadata": {
  "kernelspec": {
   "display_name": "Python 3",
   "language": "python",
   "name": "python3"
  },
  "language_info": {
   "codemirror_mode": {
    "name": "ipython",
    "version": 3
   },
   "file_extension": ".py",
   "mimetype": "text/x-python",
   "name": "python",
   "nbconvert_exporter": "python",
   "pygments_lexer": "ipython3",
   "version": "3.7.6"
  }
 },
 "nbformat": 4,
 "nbformat_minor": 4
}
