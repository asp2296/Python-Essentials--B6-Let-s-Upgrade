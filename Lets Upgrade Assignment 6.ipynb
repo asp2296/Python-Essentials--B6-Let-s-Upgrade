{
 "cells": [
  {
   "cell_type": "code",
   "execution_count": 3,
   "metadata": {},
   "outputs": [
    {
     "name": "stdout",
     "output_type": "stream",
     "text": [
      "port1= {21: 'FTP', 22: 'SSH', 23: 'telnet', 80: 'http'}\n",
      "port2= {'FTP': 21, 'SSH': 22, 'telnet': 23, 'http': 80}\n"
     ]
    }
   ],
   "source": [
    "port1={21:\"FTP\",22:\"SSH\",23:\"telnet\",80:\"http\"}\n",
    "port2= dict([(value, key) for key, value in port1.items()])\n",
    "print(\"port1=\",port1) \n",
    "print(\"port2=\",port2)"
   ]
  },
  {
   "cell_type": "code",
   "execution_count": 5,
   "metadata": {},
   "outputs": [
    {
     "name": "stdout",
     "output_type": "stream",
     "text": [
      "list2: [3, 5, 11, 9]\n"
     ]
    }
   ],
   "source": [
    "list1=[(1,2),(2,3),(5,6),(4,5)]\n",
    "list2 =[]\n",
    "for (a,b) in list1:\n",
    "    list2.append(a+b)\n",
    "print(\"list2:\",list2)"
   ]
  },
  {
   "cell_type": "code",
   "execution_count": null,
   "metadata": {},
   "outputs": [],
   "source": []
  }
 ],
 "metadata": {
  "kernelspec": {
   "display_name": "Python 3",
   "language": "python",
   "name": "python3"
  },
  "language_info": {
   "codemirror_mode": {
    "name": "ipython",
    "version": 3
   },
   "file_extension": ".py",
   "mimetype": "text/x-python",
   "name": "python",
   "nbconvert_exporter": "python",
   "pygments_lexer": "ipython3",
   "version": "3.7.6"
  }
 },
 "nbformat": 4,
 "nbformat_minor": 4
}
